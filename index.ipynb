{
 "cells": [
  {
   "cell_type": "markdown",
   "metadata": {},
   "source": [
    "## Designing a PDF-Audiobook using python"
   ]
  },
  {
   "cell_type": "markdown",
   "metadata": {},
   "source": [
    "Audiobooks are voice chronicles of the content of a book that you tune in to as opposed to peruse.  You can tune in to an audiobook on any cell phone, tablet, PC or home speaker. The majority of us should be now acquainted with what PDFs are, for those who don't, they are quite possibly the most significant and broadly utilized digital media. PDF represents Portable Document Format. It utilizes .pdf extension. It is utilized to present and exchange documents reliably, autonomous of any operating system framework. Developed by Adobe, PDF is presently an open standard maintained by the International Organization for Standardization (ISO). PDFs can contain links and attachments,  audio, video, etc., To convert this pdf into an audiobook, we make use of two of the most popular python libraries: pyttsx3 and PyPDF2."
   ]
  },
  {
   "cell_type": "markdown",
   "metadata": {},
   "source": [
    "#### Installing libraries"
   ]
  },
  {
   "cell_type": "code",
   "execution_count": null,
   "metadata": {},
   "outputs": [],
   "source": [
    "!pip3 install pyttsx3\n",
    "!pip3 install PyPDF2"
   ]
  },
  {
   "cell_type": "markdown",
   "metadata": {},
   "source": [
    "### Steps for implementation:\n",
    "1. Reading the PDF file into the plain text.\n",
    "2. Converting text to speech output."
   ]
  },
  {
   "cell_type": "markdown",
   "metadata": {},
   "source": [
    "#### Reading the PDF file into the plain text."
   ]
  },
  {
   "cell_type": "markdown",
   "metadata": {},
   "source": [
    "PyPDF2 is a pure-python PDF library capable of splitting, merging together, cropping, and transforming the pages of PDF files. It can retrieve text and metadata from PDFs as well as merge entire files together."
   ]
  },
  {
   "cell_type": "code",
   "execution_count": null,
   "metadata": {},
   "outputs": [],
   "source": [
    "import PyPDF2\n",
    "\n",
    "# PdfFileReader() - Initializes a PdfFileReader object.\n",
    "# Takes PDF file path as input\n",
    "pdf_book = PyPDF2.PdfFileReader(open('PDF files/Catcher_in_the_Rye.pdf','rb'));\n",
    "# numPages - splits the pdf page by page\n",
    "book_pages = pdf_book.numPages"
   ]
  },
  {
   "cell_type": "markdown",
   "metadata": {},
   "source": [
    "#### Converting text to speech output."
   ]
  },
  {
   "cell_type": "markdown",
   "metadata": {},
   "source": [
    "To convert the text obtained from the step above into speech we make use of the pyttsx3 library. This is a text-to-speech conversion library in Python. Unlike alternative libraries, it works offline and is compatible with both Python 2 and 3."
   ]
  },
  {
   "cell_type": "code",
   "execution_count": 11,
   "metadata": {},
   "outputs": [],
   "source": [
    "import pyttsx3\n",
    "\n",
    "engine = pyttsx3.init()"
   ]
  },
  {
   "cell_type": "code",
   "execution_count": null,
   "metadata": {},
   "outputs": [],
   "source": [
    "for pageNum in range(0, book_pages):\n",
    "    # getPage returns a specific page based on page number\n",
    "    page = pdf_book.getPage(pageNum)\n",
    "    # extractText returns a string that holds the page text\n",
    "    page_text = page.extractText()\n",
    "    # speaks the utterance of the text extracted\n",
    "    engine.say(page_text)\n",
    "    engine.runAndWait()"
   ]
  }
 ],
 "metadata": {
  "kernelspec": {
   "display_name": "Python 3",
   "language": "python",
   "name": "python3"
  },
  "language_info": {
   "codemirror_mode": {
    "name": "ipython",
    "version": 3
   },
   "file_extension": ".py",
   "mimetype": "text/x-python",
   "name": "python",
   "nbconvert_exporter": "python",
   "pygments_lexer": "ipython3",
   "version": "3.8.5"
  }
 },
 "nbformat": 4,
 "nbformat_minor": 4
}
