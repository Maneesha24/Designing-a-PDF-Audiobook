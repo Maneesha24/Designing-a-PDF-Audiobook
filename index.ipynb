{
 "cells": [
  {
   "cell_type": "markdown",
   "metadata": {},
   "source": [
    "## Designing a PDF-Audiobook using python"
   ]
  },
  {
   "cell_type": "markdown",
   "metadata": {},
   "source": [
    "Audiobooks are voice chronicles of the content of a book that you tune in to as opposed to peruse.  You can tune in to an audiobook on any cell phone, tablet, PC or home speaker. The majority of us should be now acquainted with what PDFs are, for those who don't, they are quite possibly the most significant and broadly utilized digital media. PDF represents Portable Document Format. It utilizes .pdf extension. It is utilized to present and exchange documents reliably, autonomous of any operating system framework. Developed by Adobe, PDF is presently an open standard maintained by the International Organization for Standardization (ISO). PDFs can contain links and attachments,  audio, video, etc., To convert this pdf into an audiobook, we make use of two of the most popular python libraries: pyttsx3 and PyPDF2."
   ]
  },
  {
   "cell_type": "markdown",
   "metadata": {},
   "source": [
    "#### Installing libraries"
   ]
  },
  {
   "cell_type": "code",
   "execution_count": null,
   "metadata": {},
   "outputs": [],
   "source": [
    "!pip3 install pyttsx3\n",
    "!pip3 install PyPDF2"
   ]
  }
 ],
 "metadata": {
  "kernelspec": {
   "display_name": "Python 3",
   "language": "python",
   "name": "python3"
  },
  "language_info": {
   "codemirror_mode": {
    "name": "ipython",
    "version": 3
   },
   "file_extension": ".py",
   "mimetype": "text/x-python",
   "name": "python",
   "nbconvert_exporter": "python",
   "pygments_lexer": "ipython3",
   "version": "3.8.5"
  }
 },
 "nbformat": 4,
 "nbformat_minor": 4
}
